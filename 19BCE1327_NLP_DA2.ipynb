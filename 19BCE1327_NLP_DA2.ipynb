{
  "nbformat": 4,
  "nbformat_minor": 0,
  "metadata": {
    "colab": {
      "name": "19BCE1327_NLP_DA2.ipynb",
      "provenance": [],
      "collapsed_sections": []
    },
    "kernelspec": {
      "name": "python3",
      "display_name": "Python 3"
    },
    "language_info": {
      "name": "python"
    }
  },
  "cells": [
    {
      "cell_type": "markdown",
      "source": [
        "##Reg No - 19BCE1327\n",
        "##Name : Kartikey Gautam \n",
        "##CSE4022 NLP  DA2\n",
        "####SLOT - F1+F2"
      ],
      "metadata": {
        "id": "7esm2RqDMQ2m"
      }
    },
    {
      "cell_type": "markdown",
      "source": [
        "###Constructing Text corpus of Hotel reviews using web scraping "
      ],
      "metadata": {
        "id": "NcrQJXXnMqMb"
      }
    },
    {
      "cell_type": "code",
      "source": [
        "import nltk\n",
        "import re\n",
        "import string\n",
        "from nltk.tokenize import sent_tokenize\n",
        "from nltk.tokenize import word_tokenize"
      ],
      "metadata": {
        "id": "ogHtEtbgLaki"
      },
      "execution_count": 37,
      "outputs": []
    },
    {
      "cell_type": "code",
      "execution_count": 2,
      "metadata": {
        "colab": {
          "base_uri": "https://localhost:8080/"
        },
        "id": "GLajeNg0lsQp",
        "outputId": "bfe22594-d1a6-4ae8-c783-00d475089d47"
      },
      "outputs": [
        {
          "output_type": "stream",
          "name": "stdout",
          "text": [
            "Internet could have been better also TV cable was not workingIt is located a little away form the main road and the approach route is very narrow.  Parking is available , albeit a little  tricky due to limited space.  Breakfast is not available (They dont have kitchen ) . So either you cook in your room or go out. Vehicle is a must.Since it's a bit inside the WiFi connectivity as well as phone connectivity is a bit bad so you have to be ready for that , secondly just a suggestion if they could include breakfast would be just perfect so that when u wake up one does not have to make it .Breakfast was not good at all... there were only few options and that was also not testy...and they didn't accepted the full payment through card and asked us to pay half of the money by cash...☹️The apartment which I stayed was having smell of pest control and found some cockroach there.. But overall goodBreakfastThere were roaches in the room..other than that all is wellThere were two small cockroaches in the rooms when we arrived but the man used the spray and kill them. We kept the apartment spotlessly cleaned after and not to have any food left open during the stay so problem was sorted. \n",
            "The breakfast service was very poor and very basic food available.The breakfast was a bit sub-par for a hotel standard but it was edible, just not a great selection.Service of the Kitchen was not goodMany Cockroaches\n",
            "No tandoori food at nightFood could be much more tasty specially goans dish and in breakfast there should be much more variety of food to choose.FoodThe breakfast was a joke. The pre check in stress creates by the property, after booking with booking.com in the last minute left a bad taste..It's almost 3 km from baga beach. But we already knew about it and so we were not disappointed.\n",
            "Breakfast was average.Providing washing machine in flat but at extra charges..... This seems strange. Breakfast is complimentary but that mean not that keeps it's quality substandard.The break fast and food in general in not up to the markThe location is just a bit strange. It’s centrally located but at the end of a very narrow lane, only great drivers can back in and out.Everything was perfect.Made to feel that this is a cheap deal. The staff didnt care to satisfy (forget delight and wow) the guests. Possibly the poor occupancy due to the epidemic lead  by travel restrictions bothers them. But hello, you don't need to show that to those who did turn up to your place..More beautiful then, what we expect.The staff was terrible and very very rude and not helpful at all. \n",
            "They only offered to clean the rooms and change towels and bedsheets in once in 2 days which was disgusting. \n",
            "The breakfast served was really really bad and it was definitely not expected from treebo. \n",
            "I am really disappointed with this stay and I don’t think that I will consider another stay at any of the treebo hotels\n"
          ]
        }
      ],
      "source": [
        "import urllib.request\n",
        "from bs4 import BeautifulSoup\n",
        "url='https://www.booking.com/reviews/in/hotel/treebo-rain-forest-enclave.en-gb.html?page=1;r_lang=all;rows=75'\n",
        "req = urllib.request.Request(\n",
        "    url,\n",
        "    headers={\n",
        "        'User-Agent': 'Mozilla/5.0 (Macintosh; Intel Mac OS X 10_9_3) AppleWebKit/537.36 (KHTML, like Gecko) Chrome/35.0.1916.47 Safari/537.36',\n",
        "    }\n",
        ")\n",
        "\n",
        "f = urllib.request.urlopen(req)\n",
        "soup = BeautifulSoup(f.read().decode('utf-8'),'html.parser')\n",
        "reviews = soup.findAll(\"p\", {\"class\": \"review_neg\"})\n",
        "CORPUS_TXT = \"\"\n",
        "for review in reviews:\n",
        "    CORPUS_TXT += review.find(\"span\").getText()\n",
        "print(CORPUS_TXT)    "
      ]
    },
    {
      "cell_type": "code",
      "source": [
        "\n",
        "emoji_pattern = re.compile(\"[\"\n",
        "        u\"\\U0001F600-\\U0001F64F\"  # emoticons\n",
        "        u\"\\U0001F300-\\U0001F5FF\"  # symbols & pictographs\n",
        "        u\"\\U0001F680-\\U0001F6FF\"  # transport & map symbols\n",
        "        u\"\\U0001F1E0-\\U0001F1FF\"  # flags (iOS)\n",
        "                           \"]+\", flags=re.UNICODE)\n",
        "print(emoji_pattern.sub(r'', CORPUS_TXT))"
      ],
      "metadata": {
        "colab": {
          "base_uri": "https://localhost:8080/"
        },
        "id": "wcAbQnsrvcJI",
        "outputId": "33ab1cef-d31c-4359-f0b6-5988779c311a"
      },
      "execution_count": 3,
      "outputs": [
        {
          "output_type": "stream",
          "name": "stdout",
          "text": [
            "Internet could have been better also TV cable was not workingIt is located a little away form the main road and the approach route is very narrow.  Parking is available , albeit a little  tricky due to limited space.  Breakfast is not available (They dont have kitchen ) . So either you cook in your room or go out. Vehicle is a must.Since it's a bit inside the WiFi connectivity as well as phone connectivity is a bit bad so you have to be ready for that , secondly just a suggestion if they could include breakfast would be just perfect so that when u wake up one does not have to make it .Breakfast was not good at all... there were only few options and that was also not testy...and they didn't accepted the full payment through card and asked us to pay half of the money by cash...☹️The apartment which I stayed was having smell of pest control and found some cockroach there.. But overall goodBreakfastThere were roaches in the room..other than that all is wellThere were two small cockroaches in the rooms when we arrived but the man used the spray and kill them. We kept the apartment spotlessly cleaned after and not to have any food left open during the stay so problem was sorted. \n",
            "The breakfast service was very poor and very basic food available.The breakfast was a bit sub-par for a hotel standard but it was edible, just not a great selection.Service of the Kitchen was not goodMany Cockroaches\n",
            "No tandoori food at nightFood could be much more tasty specially goans dish and in breakfast there should be much more variety of food to choose.FoodThe breakfast was a joke. The pre check in stress creates by the property, after booking with booking.com in the last minute left a bad taste..It's almost 3 km from baga beach. But we already knew about it and so we were not disappointed.\n",
            "Breakfast was average.Providing washing machine in flat but at extra charges..... This seems strange. Breakfast is complimentary but that mean not that keeps it's quality substandard.The break fast and food in general in not up to the markThe location is just a bit strange. It’s centrally located but at the end of a very narrow lane, only great drivers can back in and out.Everything was perfect.Made to feel that this is a cheap deal. The staff didnt care to satisfy (forget delight and wow) the guests. Possibly the poor occupancy due to the epidemic lead  by travel restrictions bothers them. But hello, you don't need to show that to those who did turn up to your place..More beautiful then, what we expect.The staff was terrible and very very rude and not helpful at all. \n",
            "They only offered to clean the rooms and change towels and bedsheets in once in 2 days which was disgusting. \n",
            "The breakfast served was really really bad and it was definitely not expected from treebo. \n",
            "I am really disappointed with this stay and I don’t think that I will consider another stay at any of the treebo hotels\n"
          ]
        }
      ]
    },
    {
      "cell_type": "code",
      "source": [
        "import re\n",
        "CORPUS_TXT = re.sub('[.]{2,}', ' ', CORPUS_TXT)"
      ],
      "metadata": {
        "id": "-4_s1U-wrLL1"
      },
      "execution_count": 8,
      "outputs": []
    },
    {
      "cell_type": "markdown",
      "source": [
        "####Corpus Text"
      ],
      "metadata": {
        "id": "S54fRd7PMyVV"
      }
    },
    {
      "cell_type": "code",
      "source": [
        "print(CORPUS_TXT)"
      ],
      "metadata": {
        "colab": {
          "base_uri": "https://localhost:8080/"
        },
        "id": "Ly2hbDw2ulUv",
        "outputId": "5f02fc50-34b9-4859-b3fe-a36d4ac25b6e"
      },
      "execution_count": 13,
      "outputs": [
        {
          "output_type": "stream",
          "name": "stdout",
          "text": [
            "Internet could have been better also TV cable was not workingIt is located a little away form the main road and the approach route is very narrow.  Parking is available , albeit a little  tricky due to limited space.  Breakfast is not available (They dont have kitchen ) . So either you cook in your room or go out. Vehicle is a must.Since it's a bit inside the WiFi connectivity as well as phone connectivity is a bit bad so you have to be ready for that , secondly just a suggestion if they could include breakfast would be just perfect so that when u wake up one does not have to make it .Breakfast was not good at all  there were only few options and that was also not testy and they didn't accepted the full payment through card and asked us to pay half of the money by cash ☹️The apartment which I stayed was having smell of pest control and found some cockroach there  But overall goodBreakfastThere were roaches in the room other than that all is wellThere were two small cockroaches in the rooms when we arrived but the man used the spray and kill them. We kept the apartment spotlessly cleaned after and not to have any food left open during the stay so problem was sorted. \n",
            "The breakfast service was very poor and very basic food available.The breakfast was a bit sub-par for a hotel standard but it was edible, just not a great selection.Service of the Kitchen was not goodMany Cockroaches\n",
            "No tandoori food at nightFood could be much more tasty specially goans dish and in breakfast there should be much more variety of food to choose.FoodThe breakfast was a joke. The pre check in stress creates by the property, after booking with booking.com in the last minute left a bad taste It's almost 3 km from baga beach. But we already knew about it and so we were not disappointed.\n",
            "Breakfast was average.Providing washing machine in flat but at extra charges  This seems strange. Breakfast is complimentary but that mean not that keeps it's quality substandard.The break fast and food in general in not up to the markThe location is just a bit strange. It’s centrally located but at the end of a very narrow lane, only great drivers can back in and out.Everything was perfect.Made to feel that this is a cheap deal. The staff didnt care to satisfy (forget delight and wow) the guests. Possibly the poor occupancy due to the epidemic lead  by travel restrictions bothers them. But hello, you don't need to show that to those who did turn up to your place More beautiful then, what we expect.The staff was terrible and very very rude and not helpful at all. \n",
            "They only offered to clean the rooms and change towels and bedsheets in once in 2 days which was disgusting. \n",
            "The breakfast served was really really bad and it was definitely not expected from treebo. \n",
            "I am really disappointed with this stay and I don’t think that I will consider another stay at any of the treebo hotels\n"
          ]
        }
      ]
    },
    {
      "cell_type": "markdown",
      "source": [
        "## Convert To LowerCase"
      ],
      "metadata": {
        "id": "2D6FGUYNOadN"
      }
    },
    {
      "cell_type": "code",
      "source": [
        "CORPUS_new=CORPUS_TXT.lower()\n",
        "CORPUS_new"
      ],
      "metadata": {
        "colab": {
          "base_uri": "https://localhost:8080/",
          "height": 109
        },
        "id": "GKWs94qHOvjK",
        "outputId": "f138adba-3d1a-471a-93f0-75b42ad86dd2"
      },
      "execution_count": 20,
      "outputs": [
        {
          "output_type": "execute_result",
          "data": {
            "text/plain": [
              "\"internet could have been better also tv cable was not workingit is located a little away form the main road and the approach route is very narrow.  parking is available , albeit a little  tricky due to limited space.  breakfast is not available (they dont have kitchen ) . so either you cook in your room or go out. vehicle is a must.since it's a bit inside the wifi connectivity as well as phone connectivity is a bit bad so you have to be ready for that , secondly just a suggestion if they could include breakfast would be just perfect so that when u wake up one does not have to make it .breakfast was not good at all  there were only few options and that was also not testy and they didn't accepted the full payment through card and asked us to pay half of the money by cash ☹️the apartment which i stayed was having smell of pest control and found some cockroach there  but overall goodbreakfastthere were roaches in the room other than that all is wellthere were two small cockroaches in the rooms when we arrived but the man used the spray and kill them. we kept the apartment spotlessly cleaned after and not to have any food left open during the stay so problem was sorted. \\nthe breakfast service was very poor and very basic food available.the breakfast was a bit sub-par for a hotel standard but it was edible, just not a great selection.service of the kitchen was not goodmany cockroaches\\nno tandoori food at nightfood could be much more tasty specially goans dish and in breakfast there should be much more variety of food to choose.foodthe breakfast was a joke. the pre check in stress creates by the property, after booking with booking.com in the last minute left a bad taste it's almost 3 km from baga beach. but we already knew about it and so we were not disappointed.\\nbreakfast was average.providing washing machine in flat but at extra charges  this seems strange. breakfast is complimentary but that mean not that keeps it's quality substandard.the break fast and food in general in not up to the markthe location is just a bit strange. it’s centrally located but at the end of a very narrow lane, only great drivers can back in and out.everything was perfect.made to feel that this is a cheap deal. the staff didnt care to satisfy (forget delight and wow) the guests. possibly the poor occupancy due to the epidemic lead  by travel restrictions bothers them. but hello, you don't need to show that to those who did turn up to your place more beautiful then, what we expect.the staff was terrible and very very rude and not helpful at all. \\nthey only offered to clean the rooms and change towels and bedsheets in once in 2 days which was disgusting. \\nthe breakfast served was really really bad and it was definitely not expected from treebo. \\ni am really disappointed with this stay and i don’t think that i will consider another stay at any of the treebo hotels\""
            ],
            "application/vnd.google.colaboratory.intrinsic+json": {
              "type": "string"
            }
          },
          "metadata": {},
          "execution_count": 20
        }
      ]
    },
    {
      "cell_type": "code",
      "source": [
        "nltk.download('punkt')"
      ],
      "metadata": {
        "colab": {
          "base_uri": "https://localhost:8080/"
        },
        "id": "-dKkFkNcL_8T",
        "outputId": "4953f280-7753-4259-bb42-db9d7157ae40"
      },
      "execution_count": 22,
      "outputs": [
        {
          "output_type": "stream",
          "name": "stderr",
          "text": [
            "[nltk_data] Downloading package punkt to /root/nltk_data...\n",
            "[nltk_data]   Unzipping tokenizers/punkt.zip.\n"
          ]
        },
        {
          "output_type": "execute_result",
          "data": {
            "text/plain": [
              "True"
            ]
          },
          "metadata": {},
          "execution_count": 22
        }
      ]
    },
    {
      "cell_type": "markdown",
      "source": [
        "## Sentence Segmentation "
      ],
      "metadata": {
        "id": "EH-W_Pl1MGj3"
      }
    },
    {
      "cell_type": "code",
      "source": [
        "sentences = nltk.sent_tokenize(CORPUS_new)\n",
        "for sentence in sentences:\n",
        "    print(sentence)\n",
        "    print()"
      ],
      "metadata": {
        "colab": {
          "base_uri": "https://localhost:8080/"
        },
        "id": "6j6EwuGNwi9M",
        "outputId": "40cefb80-8d83-4efd-a42a-3e5577f1984f"
      },
      "execution_count": 23,
      "outputs": [
        {
          "output_type": "stream",
          "name": "stdout",
          "text": [
            "internet could have been better also tv cable was not workingit is located a little away form the main road and the approach route is very narrow.\n",
            "\n",
            "parking is available , albeit a little  tricky due to limited space.\n",
            "\n",
            "breakfast is not available (they dont have kitchen ) .\n",
            "\n",
            "so either you cook in your room or go out.\n",
            "\n",
            "vehicle is a must.since it's a bit inside the wifi connectivity as well as phone connectivity is a bit bad so you have to be ready for that , secondly just a suggestion if they could include breakfast would be just perfect so that when u wake up one does not have to make it .breakfast was not good at all  there were only few options and that was also not testy and they didn't accepted the full payment through card and asked us to pay half of the money by cash ☹️the apartment which i stayed was having smell of pest control and found some cockroach there  but overall goodbreakfastthere were roaches in the room other than that all is wellthere were two small cockroaches in the rooms when we arrived but the man used the spray and kill them.\n",
            "\n",
            "we kept the apartment spotlessly cleaned after and not to have any food left open during the stay so problem was sorted.\n",
            "\n",
            "the breakfast service was very poor and very basic food available.the breakfast was a bit sub-par for a hotel standard but it was edible, just not a great selection.service of the kitchen was not goodmany cockroaches\n",
            "no tandoori food at nightfood could be much more tasty specially goans dish and in breakfast there should be much more variety of food to choose.foodthe breakfast was a joke.\n",
            "\n",
            "the pre check in stress creates by the property, after booking with booking.com in the last minute left a bad taste it's almost 3 km from baga beach.\n",
            "\n",
            "but we already knew about it and so we were not disappointed.\n",
            "\n",
            "breakfast was average.providing washing machine in flat but at extra charges  this seems strange.\n",
            "\n",
            "breakfast is complimentary but that mean not that keeps it's quality substandard.the break fast and food in general in not up to the markthe location is just a bit strange.\n",
            "\n",
            "it’s centrally located but at the end of a very narrow lane, only great drivers can back in and out.everything was perfect.made to feel that this is a cheap deal.\n",
            "\n",
            "the staff didnt care to satisfy (forget delight and wow) the guests.\n",
            "\n",
            "possibly the poor occupancy due to the epidemic lead  by travel restrictions bothers them.\n",
            "\n",
            "but hello, you don't need to show that to those who did turn up to your place more beautiful then, what we expect.the staff was terrible and very very rude and not helpful at all.\n",
            "\n",
            "they only offered to clean the rooms and change towels and bedsheets in once in 2 days which was disgusting.\n",
            "\n",
            "the breakfast served was really really bad and it was definitely not expected from treebo.\n",
            "\n",
            "i am really disappointed with this stay and i don’t think that i will consider another stay at any of the treebo hotels\n",
            "\n"
          ]
        }
      ]
    },
    {
      "cell_type": "markdown",
      "source": [
        "##Word segmentation"
      ],
      "metadata": {
        "id": "sKPB5P61M4FP"
      }
    },
    {
      "cell_type": "code",
      "source": [
        "for sentence in sentences:\n",
        "    tokenized_words = nltk.word_tokenize(sentence)\n",
        "    print(tokenized_words)\n",
        "    print()"
      ],
      "metadata": {
        "colab": {
          "base_uri": "https://localhost:8080/"
        },
        "id": "_eaF1h-OM3zl",
        "outputId": "b4a6146f-4d9b-4e70-c918-cffcea174871"
      },
      "execution_count": 24,
      "outputs": [
        {
          "output_type": "stream",
          "name": "stdout",
          "text": [
            "['internet', 'could', 'have', 'been', 'better', 'also', 'tv', 'cable', 'was', 'not', 'workingit', 'is', 'located', 'a', 'little', 'away', 'form', 'the', 'main', 'road', 'and', 'the', 'approach', 'route', 'is', 'very', 'narrow', '.']\n",
            "\n",
            "['parking', 'is', 'available', ',', 'albeit', 'a', 'little', 'tricky', 'due', 'to', 'limited', 'space', '.']\n",
            "\n",
            "['breakfast', 'is', 'not', 'available', '(', 'they', 'dont', 'have', 'kitchen', ')', '.']\n",
            "\n",
            "['so', 'either', 'you', 'cook', 'in', 'your', 'room', 'or', 'go', 'out', '.']\n",
            "\n",
            "['vehicle', 'is', 'a', 'must.since', 'it', \"'s\", 'a', 'bit', 'inside', 'the', 'wifi', 'connectivity', 'as', 'well', 'as', 'phone', 'connectivity', 'is', 'a', 'bit', 'bad', 'so', 'you', 'have', 'to', 'be', 'ready', 'for', 'that', ',', 'secondly', 'just', 'a', 'suggestion', 'if', 'they', 'could', 'include', 'breakfast', 'would', 'be', 'just', 'perfect', 'so', 'that', 'when', 'u', 'wake', 'up', 'one', 'does', 'not', 'have', 'to', 'make', 'it', '.breakfast', 'was', 'not', 'good', 'at', 'all', 'there', 'were', 'only', 'few', 'options', 'and', 'that', 'was', 'also', 'not', 'testy', 'and', 'they', 'did', \"n't\", 'accepted', 'the', 'full', 'payment', 'through', 'card', 'and', 'asked', 'us', 'to', 'pay', 'half', 'of', 'the', 'money', 'by', 'cash', '☹️the', 'apartment', 'which', 'i', 'stayed', 'was', 'having', 'smell', 'of', 'pest', 'control', 'and', 'found', 'some', 'cockroach', 'there', 'but', 'overall', 'goodbreakfastthere', 'were', 'roaches', 'in', 'the', 'room', 'other', 'than', 'that', 'all', 'is', 'wellthere', 'were', 'two', 'small', 'cockroaches', 'in', 'the', 'rooms', 'when', 'we', 'arrived', 'but', 'the', 'man', 'used', 'the', 'spray', 'and', 'kill', 'them', '.']\n",
            "\n",
            "['we', 'kept', 'the', 'apartment', 'spotlessly', 'cleaned', 'after', 'and', 'not', 'to', 'have', 'any', 'food', 'left', 'open', 'during', 'the', 'stay', 'so', 'problem', 'was', 'sorted', '.']\n",
            "\n",
            "['the', 'breakfast', 'service', 'was', 'very', 'poor', 'and', 'very', 'basic', 'food', 'available.the', 'breakfast', 'was', 'a', 'bit', 'sub-par', 'for', 'a', 'hotel', 'standard', 'but', 'it', 'was', 'edible', ',', 'just', 'not', 'a', 'great', 'selection.service', 'of', 'the', 'kitchen', 'was', 'not', 'goodmany', 'cockroaches', 'no', 'tandoori', 'food', 'at', 'nightfood', 'could', 'be', 'much', 'more', 'tasty', 'specially', 'goans', 'dish', 'and', 'in', 'breakfast', 'there', 'should', 'be', 'much', 'more', 'variety', 'of', 'food', 'to', 'choose.foodthe', 'breakfast', 'was', 'a', 'joke', '.']\n",
            "\n",
            "['the', 'pre', 'check', 'in', 'stress', 'creates', 'by', 'the', 'property', ',', 'after', 'booking', 'with', 'booking.com', 'in', 'the', 'last', 'minute', 'left', 'a', 'bad', 'taste', 'it', \"'s\", 'almost', '3', 'km', 'from', 'baga', 'beach', '.']\n",
            "\n",
            "['but', 'we', 'already', 'knew', 'about', 'it', 'and', 'so', 'we', 'were', 'not', 'disappointed', '.']\n",
            "\n",
            "['breakfast', 'was', 'average.providing', 'washing', 'machine', 'in', 'flat', 'but', 'at', 'extra', 'charges', 'this', 'seems', 'strange', '.']\n",
            "\n",
            "['breakfast', 'is', 'complimentary', 'but', 'that', 'mean', 'not', 'that', 'keeps', 'it', \"'s\", 'quality', 'substandard.the', 'break', 'fast', 'and', 'food', 'in', 'general', 'in', 'not', 'up', 'to', 'the', 'markthe', 'location', 'is', 'just', 'a', 'bit', 'strange', '.']\n",
            "\n",
            "['it', '’', 's', 'centrally', 'located', 'but', 'at', 'the', 'end', 'of', 'a', 'very', 'narrow', 'lane', ',', 'only', 'great', 'drivers', 'can', 'back', 'in', 'and', 'out.everything', 'was', 'perfect.made', 'to', 'feel', 'that', 'this', 'is', 'a', 'cheap', 'deal', '.']\n",
            "\n",
            "['the', 'staff', 'didnt', 'care', 'to', 'satisfy', '(', 'forget', 'delight', 'and', 'wow', ')', 'the', 'guests', '.']\n",
            "\n",
            "['possibly', 'the', 'poor', 'occupancy', 'due', 'to', 'the', 'epidemic', 'lead', 'by', 'travel', 'restrictions', 'bothers', 'them', '.']\n",
            "\n",
            "['but', 'hello', ',', 'you', 'do', \"n't\", 'need', 'to', 'show', 'that', 'to', 'those', 'who', 'did', 'turn', 'up', 'to', 'your', 'place', 'more', 'beautiful', 'then', ',', 'what', 'we', 'expect.the', 'staff', 'was', 'terrible', 'and', 'very', 'very', 'rude', 'and', 'not', 'helpful', 'at', 'all', '.']\n",
            "\n",
            "['they', 'only', 'offered', 'to', 'clean', 'the', 'rooms', 'and', 'change', 'towels', 'and', 'bedsheets', 'in', 'once', 'in', '2', 'days', 'which', 'was', 'disgusting', '.']\n",
            "\n",
            "['the', 'breakfast', 'served', 'was', 'really', 'really', 'bad', 'and', 'it', 'was', 'definitely', 'not', 'expected', 'from', 'treebo', '.']\n",
            "\n",
            "['i', 'am', 'really', 'disappointed', 'with', 'this', 'stay', 'and', 'i', 'don', '’', 't', 'think', 'that', 'i', 'will', 'consider', 'another', 'stay', 'at', 'any', 'of', 'the', 'treebo', 'hotels']\n",
            "\n"
          ]
        }
      ]
    },
    {
      "cell_type": "markdown",
      "source": [
        "## Removing Stop Words"
      ],
      "metadata": {
        "id": "fJTnIfAZVQGN"
      }
    },
    {
      "cell_type": "code",
      "source": [
        "nltk.download('stopwords')"
      ],
      "metadata": {
        "colab": {
          "base_uri": "https://localhost:8080/"
        },
        "id": "uW9jtQ-UWBym",
        "outputId": "c176e96e-515f-4977-b2eb-f5dea8efeaa1"
      },
      "execution_count": 26,
      "outputs": [
        {
          "output_type": "stream",
          "name": "stderr",
          "text": [
            "[nltk_data] Downloading package stopwords to /root/nltk_data...\n",
            "[nltk_data]   Unzipping corpora/stopwords.zip.\n"
          ]
        },
        {
          "output_type": "execute_result",
          "data": {
            "text/plain": [
              "True"
            ]
          },
          "metadata": {},
          "execution_count": 26
        }
      ]
    },
    {
      "cell_type": "code",
      "source": [
        "from nltk.corpus import stopwords\n",
        "stop_words = set(stopwords.words(\"english\"))\n",
        "STOPWORDS = []\n",
        "for sentence in sentences:\n",
        "  words = nltk.word_tokenize(sentence)\n",
        "  after_stop_words_removal = [word for word in words if not word in stop_words]\n",
        "  after_stop_words_removal = list(filter(lambda token: token not in string.punctuation, after_stop_words_removal))\n",
        "  STOPWORDS.append(after_stop_words_removal)"
      ],
      "metadata": {
        "id": "l62AaQNhVPSt"
      },
      "execution_count": 39,
      "outputs": []
    },
    {
      "cell_type": "code",
      "source": [
        "print(STOPWORDS)"
      ],
      "metadata": {
        "colab": {
          "base_uri": "https://localhost:8080/"
        },
        "id": "_jmETIx4awBs",
        "outputId": "617b3ff6-fdd0-4508-c060-42382a7abf77"
      },
      "execution_count": 40,
      "outputs": [
        {
          "output_type": "stream",
          "name": "stdout",
          "text": [
            "[['internet', 'could', 'better', 'also', 'tv', 'cable', 'workingit', 'located', 'little', 'away', 'form', 'main', 'road', 'approach', 'route', 'narrow'], ['parking', 'available', 'albeit', 'little', 'tricky', 'due', 'limited', 'space'], ['breakfast', 'available', 'dont', 'kitchen'], ['either', 'cook', 'room', 'go'], ['vehicle', 'must.since', \"'s\", 'bit', 'inside', 'wifi', 'connectivity', 'well', 'phone', 'connectivity', 'bit', 'bad', 'ready', 'secondly', 'suggestion', 'could', 'include', 'breakfast', 'would', 'perfect', 'u', 'wake', 'one', 'make', '.breakfast', 'good', 'options', 'also', 'testy', \"n't\", 'accepted', 'full', 'payment', 'card', 'asked', 'us', 'pay', 'half', 'money', 'cash', '☹️the', 'apartment', 'stayed', 'smell', 'pest', 'control', 'found', 'cockroach', 'overall', 'goodbreakfastthere', 'roaches', 'room', 'wellthere', 'two', 'small', 'cockroaches', 'rooms', 'arrived', 'man', 'used', 'spray', 'kill'], ['kept', 'apartment', 'spotlessly', 'cleaned', 'food', 'left', 'open', 'stay', 'problem', 'sorted'], ['breakfast', 'service', 'poor', 'basic', 'food', 'available.the', 'breakfast', 'bit', 'sub-par', 'hotel', 'standard', 'edible', 'great', 'selection.service', 'kitchen', 'goodmany', 'cockroaches', 'tandoori', 'food', 'nightfood', 'could', 'much', 'tasty', 'specially', 'goans', 'dish', 'breakfast', 'much', 'variety', 'food', 'choose.foodthe', 'breakfast', 'joke'], ['pre', 'check', 'stress', 'creates', 'property', 'booking', 'booking.com', 'last', 'minute', 'left', 'bad', 'taste', \"'s\", 'almost', '3', 'km', 'baga', 'beach'], ['already', 'knew', 'disappointed'], ['breakfast', 'average.providing', 'washing', 'machine', 'flat', 'extra', 'charges', 'seems', 'strange'], ['breakfast', 'complimentary', 'mean', 'keeps', \"'s\", 'quality', 'substandard.the', 'break', 'fast', 'food', 'general', 'markthe', 'location', 'bit', 'strange'], ['’', 'centrally', 'located', 'end', 'narrow', 'lane', 'great', 'drivers', 'back', 'out.everything', 'perfect.made', 'feel', 'cheap', 'deal'], ['staff', 'didnt', 'care', 'satisfy', 'forget', 'delight', 'wow', 'guests'], ['possibly', 'poor', 'occupancy', 'due', 'epidemic', 'lead', 'travel', 'restrictions', 'bothers'], ['hello', \"n't\", 'need', 'show', 'turn', 'place', 'beautiful', 'expect.the', 'staff', 'terrible', 'rude', 'helpful'], ['offered', 'clean', 'rooms', 'change', 'towels', 'bedsheets', '2', 'days', 'disgusting'], ['breakfast', 'served', 'really', 'really', 'bad', 'definitely', 'expected', 'treebo'], ['really', 'disappointed', 'stay', '’', 'think', 'consider', 'another', 'stay', 'treebo', 'hotels']]\n"
          ]
        }
      ]
    },
    {
      "cell_type": "markdown",
      "source": [
        "##Stemming using Porter Stemmer method"
      ],
      "metadata": {
        "id": "xWD9EEdIYgk5"
      }
    },
    {
      "cell_type": "code",
      "source": [
        "import nltk\n",
        "from nltk.stem.porter import PorterStemmer\n",
        "porter_stemmer  = PorterStemmer()\n",
        "for tokenized_word in STOPWORDS:\n",
        "  print(\"______________________________________________________________\")\n",
        "  for w in tokenized_word:\n",
        "   print(\"Stemming for {} ==> {}\".format(w,porter_stemmer.stem(w)))  "
      ],
      "metadata": {
        "colab": {
          "base_uri": "https://localhost:8080/"
        },
        "id": "KD_-TW-SYgQg",
        "outputId": "6929ef09-1641-4440-9047-96777cb10eca"
      },
      "execution_count": 43,
      "outputs": [
        {
          "output_type": "stream",
          "name": "stdout",
          "text": [
            "______________________________________________________________\n",
            "Stemming for internet ==> internet\n",
            "Stemming for could ==> could\n",
            "Stemming for better ==> better\n",
            "Stemming for also ==> also\n",
            "Stemming for tv ==> tv\n",
            "Stemming for cable ==> cabl\n",
            "Stemming for workingit ==> workingit\n",
            "Stemming for located ==> locat\n",
            "Stemming for little ==> littl\n",
            "Stemming for away ==> away\n",
            "Stemming for form ==> form\n",
            "Stemming for main ==> main\n",
            "Stemming for road ==> road\n",
            "Stemming for approach ==> approach\n",
            "Stemming for route ==> rout\n",
            "Stemming for narrow ==> narrow\n",
            "______________________________________________________________\n",
            "Stemming for parking ==> park\n",
            "Stemming for available ==> avail\n",
            "Stemming for albeit ==> albeit\n",
            "Stemming for little ==> littl\n",
            "Stemming for tricky ==> tricki\n",
            "Stemming for due ==> due\n",
            "Stemming for limited ==> limit\n",
            "Stemming for space ==> space\n",
            "______________________________________________________________\n",
            "Stemming for breakfast ==> breakfast\n",
            "Stemming for available ==> avail\n",
            "Stemming for dont ==> dont\n",
            "Stemming for kitchen ==> kitchen\n",
            "______________________________________________________________\n",
            "Stemming for either ==> either\n",
            "Stemming for cook ==> cook\n",
            "Stemming for room ==> room\n",
            "Stemming for go ==> go\n",
            "______________________________________________________________\n",
            "Stemming for vehicle ==> vehicl\n",
            "Stemming for must.since ==> must.sinc\n",
            "Stemming for 's ==> 's\n",
            "Stemming for bit ==> bit\n",
            "Stemming for inside ==> insid\n",
            "Stemming for wifi ==> wifi\n",
            "Stemming for connectivity ==> connect\n",
            "Stemming for well ==> well\n",
            "Stemming for phone ==> phone\n",
            "Stemming for connectivity ==> connect\n",
            "Stemming for bit ==> bit\n",
            "Stemming for bad ==> bad\n",
            "Stemming for ready ==> readi\n",
            "Stemming for secondly ==> secondli\n",
            "Stemming for suggestion ==> suggest\n",
            "Stemming for could ==> could\n",
            "Stemming for include ==> includ\n",
            "Stemming for breakfast ==> breakfast\n",
            "Stemming for would ==> would\n",
            "Stemming for perfect ==> perfect\n",
            "Stemming for u ==> u\n",
            "Stemming for wake ==> wake\n",
            "Stemming for one ==> one\n",
            "Stemming for make ==> make\n",
            "Stemming for .breakfast ==> .breakfast\n",
            "Stemming for good ==> good\n",
            "Stemming for options ==> option\n",
            "Stemming for also ==> also\n",
            "Stemming for testy ==> testi\n",
            "Stemming for n't ==> n't\n",
            "Stemming for accepted ==> accept\n",
            "Stemming for full ==> full\n",
            "Stemming for payment ==> payment\n",
            "Stemming for card ==> card\n",
            "Stemming for asked ==> ask\n",
            "Stemming for us ==> us\n",
            "Stemming for pay ==> pay\n",
            "Stemming for half ==> half\n",
            "Stemming for money ==> money\n",
            "Stemming for cash ==> cash\n",
            "Stemming for ☹️the ==> ☹️the\n",
            "Stemming for apartment ==> apart\n",
            "Stemming for stayed ==> stay\n",
            "Stemming for smell ==> smell\n",
            "Stemming for pest ==> pest\n",
            "Stemming for control ==> control\n",
            "Stemming for found ==> found\n",
            "Stemming for cockroach ==> cockroach\n",
            "Stemming for overall ==> overal\n",
            "Stemming for goodbreakfastthere ==> goodbreakfastther\n",
            "Stemming for roaches ==> roach\n",
            "Stemming for room ==> room\n",
            "Stemming for wellthere ==> wellther\n",
            "Stemming for two ==> two\n",
            "Stemming for small ==> small\n",
            "Stemming for cockroaches ==> cockroach\n",
            "Stemming for rooms ==> room\n",
            "Stemming for arrived ==> arriv\n",
            "Stemming for man ==> man\n",
            "Stemming for used ==> use\n",
            "Stemming for spray ==> spray\n",
            "Stemming for kill ==> kill\n",
            "______________________________________________________________\n",
            "Stemming for kept ==> kept\n",
            "Stemming for apartment ==> apart\n",
            "Stemming for spotlessly ==> spotlessli\n",
            "Stemming for cleaned ==> clean\n",
            "Stemming for food ==> food\n",
            "Stemming for left ==> left\n",
            "Stemming for open ==> open\n",
            "Stemming for stay ==> stay\n",
            "Stemming for problem ==> problem\n",
            "Stemming for sorted ==> sort\n",
            "______________________________________________________________\n",
            "Stemming for breakfast ==> breakfast\n",
            "Stemming for service ==> servic\n",
            "Stemming for poor ==> poor\n",
            "Stemming for basic ==> basic\n",
            "Stemming for food ==> food\n",
            "Stemming for available.the ==> available.th\n",
            "Stemming for breakfast ==> breakfast\n",
            "Stemming for bit ==> bit\n",
            "Stemming for sub-par ==> sub-par\n",
            "Stemming for hotel ==> hotel\n",
            "Stemming for standard ==> standard\n",
            "Stemming for edible ==> edibl\n",
            "Stemming for great ==> great\n",
            "Stemming for selection.service ==> selection.servic\n",
            "Stemming for kitchen ==> kitchen\n",
            "Stemming for goodmany ==> goodmani\n",
            "Stemming for cockroaches ==> cockroach\n",
            "Stemming for tandoori ==> tandoori\n",
            "Stemming for food ==> food\n",
            "Stemming for nightfood ==> nightfood\n",
            "Stemming for could ==> could\n",
            "Stemming for much ==> much\n",
            "Stemming for tasty ==> tasti\n",
            "Stemming for specially ==> special\n",
            "Stemming for goans ==> goan\n",
            "Stemming for dish ==> dish\n",
            "Stemming for breakfast ==> breakfast\n",
            "Stemming for much ==> much\n",
            "Stemming for variety ==> varieti\n",
            "Stemming for food ==> food\n",
            "Stemming for choose.foodthe ==> choose.foodth\n",
            "Stemming for breakfast ==> breakfast\n",
            "Stemming for joke ==> joke\n",
            "______________________________________________________________\n",
            "Stemming for pre ==> pre\n",
            "Stemming for check ==> check\n",
            "Stemming for stress ==> stress\n",
            "Stemming for creates ==> creat\n",
            "Stemming for property ==> properti\n",
            "Stemming for booking ==> book\n",
            "Stemming for booking.com ==> booking.com\n",
            "Stemming for last ==> last\n",
            "Stemming for minute ==> minut\n",
            "Stemming for left ==> left\n",
            "Stemming for bad ==> bad\n",
            "Stemming for taste ==> tast\n",
            "Stemming for 's ==> 's\n",
            "Stemming for almost ==> almost\n",
            "Stemming for 3 ==> 3\n",
            "Stemming for km ==> km\n",
            "Stemming for baga ==> baga\n",
            "Stemming for beach ==> beach\n",
            "______________________________________________________________\n",
            "Stemming for already ==> alreadi\n",
            "Stemming for knew ==> knew\n",
            "Stemming for disappointed ==> disappoint\n",
            "______________________________________________________________\n",
            "Stemming for breakfast ==> breakfast\n",
            "Stemming for average.providing ==> average.provid\n",
            "Stemming for washing ==> wash\n",
            "Stemming for machine ==> machin\n",
            "Stemming for flat ==> flat\n",
            "Stemming for extra ==> extra\n",
            "Stemming for charges ==> charg\n",
            "Stemming for seems ==> seem\n",
            "Stemming for strange ==> strang\n",
            "______________________________________________________________\n",
            "Stemming for breakfast ==> breakfast\n",
            "Stemming for complimentary ==> complimentari\n",
            "Stemming for mean ==> mean\n",
            "Stemming for keeps ==> keep\n",
            "Stemming for 's ==> 's\n",
            "Stemming for quality ==> qualiti\n",
            "Stemming for substandard.the ==> substandard.th\n",
            "Stemming for break ==> break\n",
            "Stemming for fast ==> fast\n",
            "Stemming for food ==> food\n",
            "Stemming for general ==> gener\n",
            "Stemming for markthe ==> markth\n",
            "Stemming for location ==> locat\n",
            "Stemming for bit ==> bit\n",
            "Stemming for strange ==> strang\n",
            "______________________________________________________________\n",
            "Stemming for ’ ==> ’\n",
            "Stemming for centrally ==> central\n",
            "Stemming for located ==> locat\n",
            "Stemming for end ==> end\n",
            "Stemming for narrow ==> narrow\n",
            "Stemming for lane ==> lane\n",
            "Stemming for great ==> great\n",
            "Stemming for drivers ==> driver\n",
            "Stemming for back ==> back\n",
            "Stemming for out.everything ==> out.everyth\n",
            "Stemming for perfect.made ==> perfect.mad\n",
            "Stemming for feel ==> feel\n",
            "Stemming for cheap ==> cheap\n",
            "Stemming for deal ==> deal\n",
            "______________________________________________________________\n",
            "Stemming for staff ==> staff\n",
            "Stemming for didnt ==> didnt\n",
            "Stemming for care ==> care\n",
            "Stemming for satisfy ==> satisfi\n",
            "Stemming for forget ==> forget\n",
            "Stemming for delight ==> delight\n",
            "Stemming for wow ==> wow\n",
            "Stemming for guests ==> guest\n",
            "______________________________________________________________\n",
            "Stemming for possibly ==> possibl\n",
            "Stemming for poor ==> poor\n",
            "Stemming for occupancy ==> occup\n",
            "Stemming for due ==> due\n",
            "Stemming for epidemic ==> epidem\n",
            "Stemming for lead ==> lead\n",
            "Stemming for travel ==> travel\n",
            "Stemming for restrictions ==> restrict\n",
            "Stemming for bothers ==> bother\n",
            "______________________________________________________________\n",
            "Stemming for hello ==> hello\n",
            "Stemming for n't ==> n't\n",
            "Stemming for need ==> need\n",
            "Stemming for show ==> show\n",
            "Stemming for turn ==> turn\n",
            "Stemming for place ==> place\n",
            "Stemming for beautiful ==> beauti\n",
            "Stemming for expect.the ==> expect.th\n",
            "Stemming for staff ==> staff\n",
            "Stemming for terrible ==> terribl\n",
            "Stemming for rude ==> rude\n",
            "Stemming for helpful ==> help\n",
            "______________________________________________________________\n",
            "Stemming for offered ==> offer\n",
            "Stemming for clean ==> clean\n",
            "Stemming for rooms ==> room\n",
            "Stemming for change ==> chang\n",
            "Stemming for towels ==> towel\n",
            "Stemming for bedsheets ==> bedsheet\n",
            "Stemming for 2 ==> 2\n",
            "Stemming for days ==> day\n",
            "Stemming for disgusting ==> disgust\n",
            "______________________________________________________________\n",
            "Stemming for breakfast ==> breakfast\n",
            "Stemming for served ==> serv\n",
            "Stemming for really ==> realli\n",
            "Stemming for really ==> realli\n",
            "Stemming for bad ==> bad\n",
            "Stemming for definitely ==> definit\n",
            "Stemming for expected ==> expect\n",
            "Stemming for treebo ==> treebo\n",
            "______________________________________________________________\n",
            "Stemming for really ==> realli\n",
            "Stemming for disappointed ==> disappoint\n",
            "Stemming for stay ==> stay\n",
            "Stemming for ’ ==> ’\n",
            "Stemming for think ==> think\n",
            "Stemming for consider ==> consid\n",
            "Stemming for another ==> anoth\n",
            "Stemming for stay ==> stay\n",
            "Stemming for treebo ==> treebo\n",
            "Stemming for hotels ==> hotel\n"
          ]
        }
      ]
    },
    {
      "cell_type": "markdown",
      "source": [
        "## Lemmatization"
      ],
      "metadata": {
        "id": "E4jTDT9ybu4_"
      }
    },
    {
      "cell_type": "code",
      "source": [
        "from nltk.stem import \tWordNetLemmatizer\n",
        "wordnet_lemmatizer = WordNetLemmatizer()\n",
        "from nltk.corpus import wordnet\n"
      ],
      "metadata": {
        "id": "rMmARG1wbukc"
      },
      "execution_count": 128,
      "outputs": []
    },
    {
      "cell_type": "code",
      "source": [
        "nltk.download('wordnet')\n",
        "nltk.download('omw-1.4')\n",
        "nltk.download('averaged_perceptron_tagger')\n",
        "  "
      ],
      "metadata": {
        "colab": {
          "base_uri": "https://localhost:8080/"
        },
        "id": "5nepYHJkcFsP",
        "outputId": "660ad23c-33d9-4a38-f35a-959e5dd28a30"
      },
      "execution_count": 56,
      "outputs": [
        {
          "output_type": "stream",
          "name": "stderr",
          "text": [
            "[nltk_data] Downloading package wordnet to /root/nltk_data...\n",
            "[nltk_data]   Package wordnet is already up-to-date!\n",
            "[nltk_data] Downloading package omw-1.4 to /root/nltk_data...\n",
            "[nltk_data]   Package omw-1.4 is already up-to-date!\n",
            "[nltk_data] Downloading package averaged_perceptron_tagger to\n",
            "[nltk_data]     /root/nltk_data...\n",
            "[nltk_data]   Unzipping taggers/averaged_perceptron_tagger.zip.\n"
          ]
        },
        {
          "output_type": "execute_result",
          "data": {
            "text/plain": [
              "True"
            ]
          },
          "metadata": {},
          "execution_count": 56
        }
      ]
    },
    {
      "cell_type": "markdown",
      "source": [
        "## POS Tagging"
      ],
      "metadata": {
        "id": "cwc0mNk7lT5V"
      }
    },
    {
      "cell_type": "code",
      "source": [
        "y=[]\n",
        "for wrd in STOPWORDS:\n",
        "  y.append(dict(nltk.pos_tag(wrd)))\n",
        "print(y)  \n"
      ],
      "metadata": {
        "colab": {
          "base_uri": "https://localhost:8080/"
        },
        "id": "xsW8qt-Wgjeq",
        "outputId": "33205354-900f-4e69-87f4-8d9be6250108"
      },
      "execution_count": 82,
      "outputs": [
        {
          "output_type": "stream",
          "name": "stdout",
          "text": [
            "[{'internet': 'NN', 'could': 'MD', 'better': 'VB', 'also': 'RB', 'tv': 'NN', 'cable': 'NN', 'workingit': 'NN', 'located': 'VBN', 'little': 'JJ', 'away': 'RB', 'form': 'VBP', 'main': 'JJ', 'road': 'NN', 'approach': 'NN', 'route': 'NN', 'narrow': 'NN'}, {'parking': 'VBG', 'available': 'JJ', 'albeit': 'JJ', 'little': 'JJ', 'tricky': 'JJ', 'due': 'RB', 'limited': 'VBD', 'space': 'NN'}, {'breakfast': 'NN', 'available': 'JJ', 'dont': 'NN', 'kitchen': 'NN'}, {'either': 'DT', 'cook': 'NN', 'room': 'NN', 'go': 'VBP'}, {'vehicle': 'NN', 'must.since': 'NN', \"'s\": 'POS', 'bit': 'NN', 'inside': 'JJ', 'wifi': 'NN', 'connectivity': 'NN', 'well': 'RB', 'phone': 'NN', 'bad': 'JJ', 'ready': 'JJ', 'secondly': 'JJ', 'suggestion': 'NN', 'could': 'MD', 'include': 'VB', 'breakfast': 'NN', 'would': 'MD', 'perfect': 'VB', 'u': 'JJ', 'wake': 'NN', 'one': 'CD', 'make': 'NN', '.breakfast': 'NN', 'good': 'JJ', 'options': 'NNS', 'also': 'RB', 'testy': 'VBP', \"n't\": 'RB', 'accepted': 'VBN', 'full': 'JJ', 'payment': 'NN', 'card': 'NN', 'asked': 'VBD', 'us': 'PRP', 'pay': 'VB', 'half': 'DT', 'money': 'NN', 'cash': 'NN', '☹️the': 'NNP', 'apartment': 'NN', 'stayed': 'VBD', 'smell': 'RB', 'pest': 'JJS', 'control': 'NN', 'found': 'VBD', 'cockroach': 'RB', 'overall': 'JJ', 'goodbreakfastthere': 'JJ', 'roaches': 'NNS', 'room': 'NN', 'wellthere': 'RB', 'two': 'CD', 'small': 'JJ', 'cockroaches': 'NNS', 'rooms': 'NNS', 'arrived': 'VBD', 'man': 'NN', 'used': 'VBN', 'spray': 'NN', 'kill': 'NN'}, {'kept': 'VB', 'apartment': 'NN', 'spotlessly': 'RB', 'cleaned': 'VBD', 'food': 'NN', 'left': 'VBD', 'open': 'JJ', 'stay': 'NN', 'problem': 'NN', 'sorted': 'VBD'}, {'breakfast': 'NN', 'service': 'NN', 'poor': 'JJ', 'basic': 'JJ', 'food': 'NN', 'available.the': 'NN', 'bit': 'IN', 'sub-par': 'JJ', 'hotel': 'NN', 'standard': 'NN', 'edible': 'JJ', 'great': 'JJ', 'selection.service': 'NN', 'kitchen': 'VBD', 'goodmany': 'JJ', 'cockroaches': 'NNS', 'tandoori': 'VBD', 'nightfood': 'NN', 'could': 'MD', 'much': 'JJ', 'tasty': 'VB', 'specially': 'RB', 'goans': 'NNS', 'dish': 'JJ', 'variety': 'NN', 'choose.foodthe': 'NN', 'joke': 'NN'}, {'pre': 'NN', 'check': 'NN', 'stress': 'NN', 'creates': 'VBZ', 'property': 'NN', 'booking': 'VBG', 'booking.com': 'NN', 'last': 'JJ', 'minute': 'NN', 'left': 'VBD', 'bad': 'JJ', 'taste': 'NN', \"'s\": 'POS', 'almost': 'RB', '3': 'CD', 'km': 'NNS', 'baga': 'JJ', 'beach': 'NN'}, {'already': 'RB', 'knew': 'RB', 'disappointed': 'JJ'}, {'breakfast': 'NN', 'average.providing': 'VBG', 'washing': 'VBG', 'machine': 'NN', 'flat': 'JJ', 'extra': 'JJ', 'charges': 'NNS', 'seems': 'VBZ', 'strange': 'JJ'}, {'breakfast': 'NN', 'complimentary': 'JJ', 'mean': 'JJ', 'keeps': 'NN', \"'s\": 'POS', 'quality': 'NN', 'substandard.the': 'VBZ', 'break': 'NN', 'fast': 'JJ', 'food': 'NN', 'general': 'JJ', 'markthe': 'NN', 'location': 'NN', 'bit': 'NN', 'strange': 'JJ'}, {'’': 'NNS', 'centrally': 'RB', 'located': 'VBN', 'end': 'NN', 'narrow': 'JJ', 'lane': 'NN', 'great': 'JJ', 'drivers': 'NNS', 'back': 'RB', 'out.everything': 'VBG', 'perfect.made': 'NN', 'feel': 'NN', 'cheap': 'JJ', 'deal': 'NN'}, {'staff': 'NN', 'didnt': 'VBZ', 'care': 'NN', 'satisfy': 'JJ', 'forget': 'NN', 'delight': 'NN', 'wow': 'NN', 'guests': 'NNS'}, {'possibly': 'RB', 'poor': 'JJ', 'occupancy': 'NN', 'due': 'JJ', 'epidemic': 'JJ', 'lead': 'NN', 'travel': 'NN', 'restrictions': 'NNS', 'bothers': 'NNS'}, {'hello': 'NN', \"n't\": 'RB', 'need': 'VB', 'show': 'VB', 'turn': 'JJ', 'place': 'NN', 'beautiful': 'JJ', 'expect.the': 'JJ', 'staff': 'NN', 'terrible': 'JJ', 'rude': 'NN', 'helpful': 'NN'}, {'offered': 'VBN', 'clean': 'JJ', 'rooms': 'NNS', 'change': 'VBP', 'towels': 'NNS', 'bedsheets': 'NNS', '2': 'CD', 'days': 'NNS', 'disgusting': 'VBG'}, {'breakfast': 'NN', 'served': 'VBD', 'really': 'RB', 'bad': 'JJ', 'definitely': 'RB', 'expected': 'VBN', 'treebo': 'NN'}, {'really': 'RB', 'disappointed': 'JJ', 'stay': 'NN', '’': 'RB', 'think': 'VB', 'consider': 'JJR', 'another': 'DT', 'treebo': 'RB', 'hotels': 'NNS'}]\n"
          ]
        }
      ]
    },
    {
      "cell_type": "code",
      "source": [
        "def posparam(w):\n",
        " ld = [d.get(w) for d in y if d]\n",
        " res = list(filter(None, ld))\n",
        " return res[0]"
      ],
      "metadata": {
        "id": "ohEdxH8llsS1"
      },
      "execution_count": 138,
      "outputs": []
    },
    {
      "cell_type": "code",
      "source": [
        "def nltk_pos_tagger(nltk_tag):\n",
        "    if nltk_tag.startswith('J'):\n",
        "        return wordnet.ADJ\n",
        "    elif nltk_tag.startswith('V'):\n",
        "        return wordnet.VERB\n",
        "    elif nltk_tag.startswith('N'):\n",
        "        return wordnet.NOUN\n",
        "    elif nltk_tag.startswith('R'):\n",
        "        return wordnet.ADV\n",
        "    else:          \n",
        "        return None"
      ],
      "metadata": {
        "id": "qbJOpyLBraXd"
      },
      "execution_count": 139,
      "outputs": []
    },
    {
      "cell_type": "markdown",
      "source": [
        "### LEMMATIZATION"
      ],
      "metadata": {
        "id": "Q1A6eDUNsHhk"
      }
    },
    {
      "cell_type": "code",
      "source": [
        "for tokenized_word in STOPWORDS:\n",
        "  print(\"______________________________________________________________\")\n",
        "  for w in tokenized_word:\n",
        "   if nltk_pos_tagger(posparam(w)) is not None:\n",
        "     print(\"Lemma for {} is {}\".format(w, wordnet_lemmatizer.lemmatize(w,nltk_pos_tagger(posparam(w)))))\n",
        "   else :\n",
        "     print(\"Lemma for {} is {}\".format(w, wordnet_lemmatizer.lemmatize(w)))\n"
      ],
      "metadata": {
        "colab": {
          "base_uri": "https://localhost:8080/"
        },
        "id": "mXFsZ3aZWNMG",
        "outputId": "a07ebbb8-bf74-495f-bf5b-5ecbd78e2d83"
      },
      "execution_count": 143,
      "outputs": [
        {
          "output_type": "stream",
          "name": "stdout",
          "text": [
            "______________________________________________________________\n",
            "Lemma for internet is internet\n",
            "Lemma for could is could\n",
            "Lemma for better is better\n",
            "Lemma for also is also\n",
            "Lemma for tv is tv\n",
            "Lemma for cable is cable\n",
            "Lemma for workingit is workingit\n",
            "Lemma for located is locate\n",
            "Lemma for little is little\n",
            "Lemma for away is away\n",
            "Lemma for form is form\n",
            "Lemma for main is main\n",
            "Lemma for road is road\n",
            "Lemma for approach is approach\n",
            "Lemma for route is route\n",
            "Lemma for narrow is narrow\n",
            "______________________________________________________________\n",
            "Lemma for parking is park\n",
            "Lemma for available is available\n",
            "Lemma for albeit is albeit\n",
            "Lemma for little is little\n",
            "Lemma for tricky is tricky\n",
            "Lemma for due is due\n",
            "Lemma for limited is limit\n",
            "Lemma for space is space\n",
            "______________________________________________________________\n",
            "Lemma for breakfast is breakfast\n",
            "Lemma for available is available\n",
            "Lemma for dont is dont\n",
            "Lemma for kitchen is kitchen\n",
            "______________________________________________________________\n",
            "Lemma for either is either\n",
            "Lemma for cook is cook\n",
            "Lemma for room is room\n",
            "Lemma for go is go\n",
            "______________________________________________________________\n",
            "Lemma for vehicle is vehicle\n",
            "Lemma for must.since is must.since\n",
            "Lemma for 's is 's\n",
            "Lemma for bit is bit\n",
            "Lemma for inside is inside\n",
            "Lemma for wifi is wifi\n",
            "Lemma for connectivity is connectivity\n",
            "Lemma for well is well\n",
            "Lemma for phone is phone\n",
            "Lemma for connectivity is connectivity\n",
            "Lemma for bit is bit\n",
            "Lemma for bad is bad\n",
            "Lemma for ready is ready\n",
            "Lemma for secondly is secondly\n",
            "Lemma for suggestion is suggestion\n",
            "Lemma for could is could\n",
            "Lemma for include is include\n",
            "Lemma for breakfast is breakfast\n",
            "Lemma for would is would\n",
            "Lemma for perfect is perfect\n",
            "Lemma for u is u\n",
            "Lemma for wake is wake\n",
            "Lemma for one is one\n",
            "Lemma for make is make\n",
            "Lemma for .breakfast is .breakfast\n",
            "Lemma for good is good\n",
            "Lemma for options is option\n",
            "Lemma for also is also\n",
            "Lemma for testy is testy\n",
            "Lemma for n't is n't\n",
            "Lemma for accepted is accept\n",
            "Lemma for full is full\n",
            "Lemma for payment is payment\n",
            "Lemma for card is card\n",
            "Lemma for asked is ask\n",
            "Lemma for us is u\n",
            "Lemma for pay is pay\n",
            "Lemma for half is half\n",
            "Lemma for money is money\n",
            "Lemma for cash is cash\n",
            "Lemma for ☹️the is ☹️the\n",
            "Lemma for apartment is apartment\n",
            "Lemma for stayed is stay\n",
            "Lemma for smell is smell\n",
            "Lemma for pest is pest\n",
            "Lemma for control is control\n",
            "Lemma for found is find\n",
            "Lemma for cockroach is cockroach\n",
            "Lemma for overall is overall\n",
            "Lemma for goodbreakfastthere is goodbreakfastthere\n",
            "Lemma for roaches is roach\n",
            "Lemma for room is room\n",
            "Lemma for wellthere is wellthere\n",
            "Lemma for two is two\n",
            "Lemma for small is small\n",
            "Lemma for cockroaches is cockroach\n",
            "Lemma for rooms is room\n",
            "Lemma for arrived is arrive\n",
            "Lemma for man is man\n",
            "Lemma for used is use\n",
            "Lemma for spray is spray\n",
            "Lemma for kill is kill\n",
            "______________________________________________________________\n",
            "Lemma for kept is keep\n",
            "Lemma for apartment is apartment\n",
            "Lemma for spotlessly is spotlessly\n",
            "Lemma for cleaned is clean\n",
            "Lemma for food is food\n",
            "Lemma for left is leave\n",
            "Lemma for open is open\n",
            "Lemma for stay is stay\n",
            "Lemma for problem is problem\n",
            "Lemma for sorted is sort\n",
            "______________________________________________________________\n",
            "Lemma for breakfast is breakfast\n",
            "Lemma for service is service\n",
            "Lemma for poor is poor\n",
            "Lemma for basic is basic\n",
            "Lemma for food is food\n",
            "Lemma for available.the is available.the\n",
            "Lemma for breakfast is breakfast\n",
            "Lemma for bit is bit\n",
            "Lemma for sub-par is sub-par\n",
            "Lemma for hotel is hotel\n",
            "Lemma for standard is standard\n",
            "Lemma for edible is edible\n",
            "Lemma for great is great\n",
            "Lemma for selection.service is selection.service\n",
            "Lemma for kitchen is kitchen\n",
            "Lemma for goodmany is goodmany\n",
            "Lemma for cockroaches is cockroach\n",
            "Lemma for tandoori is tandoori\n",
            "Lemma for food is food\n",
            "Lemma for nightfood is nightfood\n",
            "Lemma for could is could\n",
            "Lemma for much is much\n",
            "Lemma for tasty is tasty\n",
            "Lemma for specially is specially\n",
            "Lemma for goans is goans\n",
            "Lemma for dish is dish\n",
            "Lemma for breakfast is breakfast\n",
            "Lemma for much is much\n",
            "Lemma for variety is variety\n",
            "Lemma for food is food\n",
            "Lemma for choose.foodthe is choose.foodthe\n",
            "Lemma for breakfast is breakfast\n",
            "Lemma for joke is joke\n",
            "______________________________________________________________\n",
            "Lemma for pre is pre\n",
            "Lemma for check is check\n",
            "Lemma for stress is stress\n",
            "Lemma for creates is create\n",
            "Lemma for property is property\n",
            "Lemma for booking is book\n",
            "Lemma for booking.com is booking.com\n",
            "Lemma for last is last\n",
            "Lemma for minute is minute\n",
            "Lemma for left is leave\n",
            "Lemma for bad is bad\n",
            "Lemma for taste is taste\n",
            "Lemma for 's is 's\n",
            "Lemma for almost is almost\n",
            "Lemma for 3 is 3\n",
            "Lemma for km is km\n",
            "Lemma for baga is baga\n",
            "Lemma for beach is beach\n",
            "______________________________________________________________\n",
            "Lemma for already is already\n",
            "Lemma for knew is knew\n",
            "Lemma for disappointed is disappointed\n",
            "______________________________________________________________\n",
            "Lemma for breakfast is breakfast\n",
            "Lemma for average.providing is average.providing\n",
            "Lemma for washing is wash\n",
            "Lemma for machine is machine\n",
            "Lemma for flat is flat\n",
            "Lemma for extra is extra\n",
            "Lemma for charges is charge\n",
            "Lemma for seems is seem\n",
            "Lemma for strange is strange\n",
            "______________________________________________________________\n",
            "Lemma for breakfast is breakfast\n",
            "Lemma for complimentary is complimentary\n",
            "Lemma for mean is mean\n",
            "Lemma for keeps is keep\n",
            "Lemma for 's is 's\n",
            "Lemma for quality is quality\n",
            "Lemma for substandard.the is substandard.the\n",
            "Lemma for break is break\n",
            "Lemma for fast is fast\n",
            "Lemma for food is food\n",
            "Lemma for general is general\n",
            "Lemma for markthe is markthe\n",
            "Lemma for location is location\n",
            "Lemma for bit is bit\n",
            "Lemma for strange is strange\n",
            "______________________________________________________________\n",
            "Lemma for ’ is ’\n",
            "Lemma for centrally is centrally\n",
            "Lemma for located is locate\n",
            "Lemma for end is end\n",
            "Lemma for narrow is narrow\n",
            "Lemma for lane is lane\n",
            "Lemma for great is great\n",
            "Lemma for drivers is driver\n",
            "Lemma for back is back\n",
            "Lemma for out.everything is out.everything\n",
            "Lemma for perfect.made is perfect.made\n",
            "Lemma for feel is feel\n",
            "Lemma for cheap is cheap\n",
            "Lemma for deal is deal\n",
            "______________________________________________________________\n",
            "Lemma for staff is staff\n",
            "Lemma for didnt is didnt\n",
            "Lemma for care is care\n",
            "Lemma for satisfy is satisfy\n",
            "Lemma for forget is forget\n",
            "Lemma for delight is delight\n",
            "Lemma for wow is wow\n",
            "Lemma for guests is guest\n",
            "______________________________________________________________\n",
            "Lemma for possibly is possibly\n",
            "Lemma for poor is poor\n",
            "Lemma for occupancy is occupancy\n",
            "Lemma for due is due\n",
            "Lemma for epidemic is epidemic\n",
            "Lemma for lead is lead\n",
            "Lemma for travel is travel\n",
            "Lemma for restrictions is restriction\n",
            "Lemma for bothers is bother\n",
            "______________________________________________________________\n",
            "Lemma for hello is hello\n",
            "Lemma for n't is n't\n",
            "Lemma for need is need\n",
            "Lemma for show is show\n",
            "Lemma for turn is turn\n",
            "Lemma for place is place\n",
            "Lemma for beautiful is beautiful\n",
            "Lemma for expect.the is expect.the\n",
            "Lemma for staff is staff\n",
            "Lemma for terrible is terrible\n",
            "Lemma for rude is rude\n",
            "Lemma for helpful is helpful\n",
            "______________________________________________________________\n",
            "Lemma for offered is offer\n",
            "Lemma for clean is clean\n",
            "Lemma for rooms is room\n",
            "Lemma for change is change\n",
            "Lemma for towels is towel\n",
            "Lemma for bedsheets is bedsheets\n",
            "Lemma for 2 is 2\n",
            "Lemma for days is day\n",
            "Lemma for disgusting is disgust\n",
            "______________________________________________________________\n",
            "Lemma for breakfast is breakfast\n",
            "Lemma for served is serve\n",
            "Lemma for really is really\n",
            "Lemma for really is really\n",
            "Lemma for bad is bad\n",
            "Lemma for definitely is definitely\n",
            "Lemma for expected is expect\n",
            "Lemma for treebo is treebo\n",
            "______________________________________________________________\n",
            "Lemma for really is really\n",
            "Lemma for disappointed is disappointed\n",
            "Lemma for stay is stay\n",
            "Lemma for ’ is ’\n",
            "Lemma for think is think\n",
            "Lemma for consider is consider\n",
            "Lemma for another is another\n",
            "Lemma for stay is stay\n",
            "Lemma for treebo is treebo\n",
            "Lemma for hotels is hotel\n"
          ]
        }
      ]
    }
  ]
}